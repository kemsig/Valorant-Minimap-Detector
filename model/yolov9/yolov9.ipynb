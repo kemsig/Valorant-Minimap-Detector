{
 "cells": [
  {
   "cell_type": "code",
   "execution_count": 1,
   "metadata": {},
   "outputs": [
    {
     "name": "stdout",
     "output_type": "stream",
     "text": [
      "c:\\Users\\kmd\\PycharmProjects\\CompValML\\model\\yolov9\\yolov9\n"
     ]
    },
    {
     "name": "stderr",
     "output_type": "stream",
     "text": [
      "Cloning into 'yolov9'...\n",
      "C:\\Users\\kmd\\AppData\\Roaming\\Python\\Python312\\site-packages\\IPython\\core\\magics\\osm.py:417: UserWarning: This is now an optional IPython functionality, setting dhist requires you to install the `pickleshare` library.\n",
      "  self.shell.db['dhist'] = compress_dhist(dhist)[-100:]\n"
     ]
    },
    {
     "name": "stdout",
     "output_type": "stream",
     "text": [
      "^C\n"
     ]
    }
   ],
   "source": [
    "!git clone https://github.com/SkalskiP/yolov9.git"
   ]
  },
  {
   "cell_type": "code",
   "execution_count": 13,
   "metadata": {},
   "outputs": [
    {
     "name": "stdout",
     "output_type": "stream",
     "text": [
      " Volume in drive C has no label.\n",
      " Volume Serial Number is 8087-B5C6\n",
      "\n",
      " Directory of c:\\Users\\kmd\\PycharmProjects\\CompValML\\model\\yoloset\n",
      "\n",
      "03/12/2024  11:02 AM               626 data.yaml\n",
      "               1 File(s)            626 bytes\n",
      "               0 Dir(s)  75,254,870,016 bytes free\n"
     ]
    }
   ],
   "source": [
    "%ls ..\\..\\yoloset\\data.yaml"
   ]
  },
  {
   "cell_type": "code",
   "execution_count": 22,
   "metadata": {},
   "outputs": [
    {
     "name": "stdout",
     "output_type": "stream",
     "text": [
      "^C\n"
     ]
    }
   ],
   "source": [
    "!python train.py \\\n",
    "--batch 16 --epochs 1 --img 256 --device cpu --min-items 0 --close-mosaic 15 \\\n",
    "--data ..\\..\\yoloset\\data.yaml \\\n",
    "--weights ..\\yolov9-c.pt \\\n",
    "--cfg detect\\yolov9-c.yaml \\\n",
    "--hyp hyp.scratch-high.yaml"
   ]
  }
 ],
 "metadata": {
  "kernelspec": {
   "display_name": "venv",
   "language": "python",
   "name": "python3"
  },
  "language_info": {
   "codemirror_mode": {
    "name": "ipython",
    "version": 3
   },
   "file_extension": ".py",
   "mimetype": "text/x-python",
   "name": "python",
   "nbconvert_exporter": "python",
   "pygments_lexer": "ipython3",
   "version": "3.12.2"
  }
 },
 "nbformat": 4,
 "nbformat_minor": 2
}
